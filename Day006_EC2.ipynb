{
 "cells": [
  {
   "cell_type": "markdown",
   "id": "24432e8f",
   "metadata": {},
   "source": [
    "\n",
    "apt update command\n",
    "<br>-------------it is use to update the apt which help to install the package-------------"
   ]
  },
  {
   "cell_type": "markdown",
   "id": "428020c7",
   "metadata": {},
   "source": [
    "sudo apt install apache2 -y\n",
    "<hr>\n",
    "------------it help to install the apache to ubuntu--------------"
   ]
  },
  {
   "cell_type": "markdown",
   "id": "729cf609",
   "metadata": {},
   "source": [
    "sudo systemctl start apache2\n",
    "<br>-------- start apache to ubuntu----------\n",
    "<hr>sudo systemctl status apache2\n",
    "<br>---------check status to if apache is running or not-------------"
   ]
  },
  {
   "cell_type": "markdown",
   "id": "5d614c58",
   "metadata": {},
   "source": [
    "sudo chmod -R 777 /var/www/html\n",
    "<br>\n",
    "cd /var/www/html\n",
    "<hr>\n",
    "ls\n",
    "----output index.html-----\n",
    "<hr>\n",
    "echo \" Hey this is Ashutosh </h1>\"> index.html"
   ]
  },
  {
   "cell_type": "markdown",
   "id": "f0a23f4c",
   "metadata": {},
   "source": []
  },
  {
   "cell_type": "markdown",
   "id": "4705a97a",
   "metadata": {},
   "source": [
    "<pre>\n",
    "   47  wget https://templatemo.com/tm-zip-files-2020/templatemo_562_space_dynamic.zip\n",
    "   48  sudo unzip templatemo_562_space_dynamic.zip \n",
    "   49  ls\n",
    "   50  cd templatemo_562_space_dynamic/\n",
    "   51  ls\n",
    "   52  mv * /var/www/html/\n",
    "   53  sudo mv * /var/www/html/\n",
    "   54  history \n",
    "   </pre>"
   ]
  },
  {
   "cell_type": "markdown",
   "id": "e3a0bae0",
   "metadata": {},
   "source": []
  }
 ],
 "metadata": {
  "language_info": {
   "name": "python"
  }
 },
 "nbformat": 4,
 "nbformat_minor": 5
}
