{
 "cells": [
  {
   "cell_type": "code",
   "execution_count": null,
   "id": "e9f30d83",
   "metadata": {},
   "outputs": [
    {
     "name": "stdout",
     "output_type": "stream",
     "text": [
      "Exported DIM_CITY to s3://smplefors3/upload/DIM_CITY/\n"
     ]
    }
   ],
   "source": [
    "import snowflake.connector\n",
    "\n",
    "# Establish connection\n",
    "conn = snowflake.connector.connect(\n",
    "    user='',\n",
    "    password='',\n",
    "    account='',\n",
    "    warehouse='COMPUTE_WH1',\n",
    "    database='',\n",
    "    schema='',\n",
    "    role='ACCOUNTADMIN'\n",
    ")\n",
    "\n",
    "cursor = conn.cursor()\n",
    "\n",
    "# List of tables to export\n",
    "tables = ['DIM_CITY', 'DIM_CUSINES', 'DIM_LOCATION','DIM_ORDERSTATUS','DIM_RESTAURANT','DIM_RESTTYPE','DIM_REVIEWLIST','FACT_RESTURENT']\n",
    "\n",
    "for table in tables:\n",
    "    s3_path = f\"s3://smplefors3/upload/{table}/\"\n",
    "    copy_sql = f\"\"\"\n",
    "        COPY INTO '{s3_path}'\n",
    "        FROM {table}\n",
    "        STORAGE_INTEGRATION = MY_S3_INTEGRATION\n",
    "        FILE_FORMAT = (TYPE = CSV COMPRESSION = GZIP);\n",
    "    \"\"\"\n",
    "    cursor.execute(copy_sql)\n",
    "    print(f\"Exported {table} to {s3_path}\")\n",
    "\n",
    "cursor.close()\n",
    "conn.close()\n"
   ]
  }
 ],
 "metadata": {
  "kernelspec": {
   "display_name": ".venv",
   "language": "python",
   "name": "python3"
  },
  "language_info": {
   "codemirror_mode": {
    "name": "ipython",
    "version": 3
   },
   "file_extension": ".py",
   "mimetype": "text/x-python",
   "name": "python",
   "nbconvert_exporter": "python",
   "pygments_lexer": "ipython3",
   "version": "3.13.1"
  }
 },
 "nbformat": 4,
 "nbformat_minor": 5
}
