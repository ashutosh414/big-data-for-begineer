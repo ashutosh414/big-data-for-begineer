{
 "cells": [
  {
   "cell_type": "code",
   "execution_count": 3,
   "id": "674cae7f",
   "metadata": {},
   "outputs": [
    {
     "name": "stdout",
     "output_type": "stream",
     "text": [
      "eventSource-> aws:s3\n",
      "aws region-> ap-south-1\n",
      "objectCreated-> ObjectCreated:Put\n"
     ]
    }
   ],
   "source": [
    "print('eventSource->', lambdaData['Records'][0]['eventSource'])\n",
    "print('aws region->', lambdaData['Records'][0]['awsRegion'])\n",
    "print('objectCreated->', lambdaData['Records'][0]['eventName'])\n"
   ]
  },
  {
   "cell_type": "code",
   "execution_count": null,
   "id": "d324b568",
   "metadata": {},
   "outputs": [],
   "source": [
    "import boto3\n",
    "import urllib.parse\n",
    "\n",
    "\n",
    "AWS_ACCESS_KEY = ''\n",
    "AWS_SECRET_KEY = ''\n",
    "REGION = 'ap-south-1'\n",
    "BUCKET_NAME = ''\n",
    "OBJECT_KEY = 'sbi mine.txt'  \n",
    "\n",
    "s3 = boto3.client('s3',\n",
    "    aws_access_key_id=AWS_ACCESS_KEY,\n",
    "    aws_secret_access_key=AWS_SECRET_KEY,\n",
    "    region_name=REGION\n",
    ")\n",
    "\n",
    "def read_s3_file(bucket, key):\n",
    "    try:\n",
    "        key = urllib.parse.unquote_plus(key, encoding='utf-8')\n",
    "        response = s3.get_object(Bucket=bucket, Key=key)\n",
    "        body = response['Body'].read()\n",
    "        content = body.decode('utf-8')\n",
    "        print(\"File Content:\\n\", content)\n",
    "        return content\n",
    "    except Exception as e:\n",
    "        print(f\"Error accessing object '{key}' from bucket '{bucket}': {e}\")\n",
    "        return None\n",
    "\n",
    "\n",
    "if __name__ == \"__main__\":\n",
    "    read_s3_file(BUCKET_NAME, OBJECT_KEY)"
   ]
  },
  {
   "cell_type": "code",
   "execution_count": null,
   "id": "9b3aab5d",
   "metadata": {},
   "outputs": [],
   "source": [
    "import csv\n",
    "import json\n",
    "import boto3\n",
    "import time\n",
    "from datetime import datetime\n",
    "\n",
    "\n",
    "def lambda_handler(event, context):\n",
    "    \n",
    "    event_params=event[\"Records\"][0]\n",
    "    \n",
    "    bucket=event_params[\"s3\"][\"bucket\"][\"name\"]\n",
    "    key=event_params[\"s3\"][\"object\"][\"key\"]\n",
    "    \n",
    "    print(\"here\")\n",
    "    \n",
    "    s3_resource = boto3.resource('s3')\n",
    "    s3_object = s3_resource.Object(bucket, key)\n",
    "    \n",
    "    data = s3_object.get()['Body'].read().decode('utf-8').splitlines()\n",
    "    \n",
    "    lines = csv.reader(data)\n",
    "    print(lines)\n",
    "    headers = next(lines)\n",
    "    print('headers: %s' %(headers))\n",
    "    \n",
    "    list_data = list(lines)\n",
    "    \n",
    "    print(list_data)\n",
    "    india=[]\n",
    "    us=[]\n",
    "    for i in list_data:\n",
    "        if i[3]=='India':\n",
    "            india.append(int(i[2]))\n",
    "        else:\n",
    "            us.append(int(i[2]))\n",
    "        \n",
    "    print('total india salary spend is ',sum(india))\n",
    "    print('total india salary spend is ',sum(us))\n",
    "    print(f\"\"\"total india,us salary spend is ,{sum(india),sum(us)}\"\"\")\n",
    "    file_content=f\"\"\"total india,us salary spend is ,{sum(india),sum(us)}\"\"\"\n",
    "    if key=='employee3.csv':\n",
    "        s3 = boto3.client('s3') \n",
    "        s3.put_object(Body=file_content, Bucket=bucket, Key='agg')\n",
    "    \n",
    "    return {\n",
    "        'statusCode': 200,\n",
    "        'body': json.dumps('Hello from Lambda!')\n",
    "    }"
   ]
  }
 ],
 "metadata": {
  "kernelspec": {
   "display_name": ".venv",
   "language": "python",
   "name": "python3"
  },
  "language_info": {
   "codemirror_mode": {
    "name": "ipython",
    "version": 3
   },
   "file_extension": ".py",
   "mimetype": "text/x-python",
   "name": "python",
   "nbconvert_exporter": "python",
   "pygments_lexer": "ipython3",
   "version": "3.13.1"
  }
 },
 "nbformat": 4,
 "nbformat_minor": 5
}
