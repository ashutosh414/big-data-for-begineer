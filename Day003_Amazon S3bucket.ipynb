{
 "cells": [
  {
   "cell_type": "code",
   "execution_count": null,
   "id": "e71c1ac0",
   "metadata": {},
   "outputs": [],
   "source": [
    "echo \"# big-data-for-begineer\" >> README.md\n",
    "git init\n",
    "git add README.md\n",
    "git commit -m \"first commit\"\n",
    "git branch -M main\n",
    "git remote add origin https://github.com/ashutosh414/big-data-for-begineer.git\n",
    "git push -u origin main"
   ]
  },
  {
   "cell_type": "code",
   "execution_count": null,
   "id": "1c99f802",
   "metadata": {},
   "outputs": [
    {
     "name": "stdout",
     "output_type": "stream",
     "text": [
      "in main method\n",
      "upload_log_to_aws response: None\n"
     ]
    }
   ],
   "source": [
    "# Export file TO s3 bucket FROM local machine \n",
    "# This code uploads a file to an S3 bucket using the Boto3 library.\n",
    "# It requires AWS credentials and the name of the S3 bucket.\n",
    "\n",
    "import boto3\n",
    "\n",
    "AWS_S3_BUCKET_NAME = 'mysampleregex002'\n",
    "AWS_REGION = 'ap-south-1'\n",
    "AWS_ACCESS_KEY = ''\n",
    "AWS_SECRET_KEY = ''\n",
    "\n",
    "LOCAL_FILE = 'Day002_Big Data etl pipeline.pdf'\n",
    "NAME_FOR_S3 = 'copyfileusingPython.pdf'\n",
    "\n",
    "def main():\n",
    "    print('in main method')\n",
    "\n",
    "    s3_client = boto3.client(\n",
    "        service_name='s3',\n",
    "        region_name=AWS_REGION,\n",
    "        aws_access_key_id=AWS_ACCESS_KEY,\n",
    "        aws_secret_access_key=AWS_SECRET_KEY\n",
    "    )\n",
    "\n",
    "    response = s3_client.upload_file(LOCAL_FILE, AWS_S3_BUCKET_NAME, NAME_FOR_S3)\n",
    "\n",
    "    print(f'upload_log_to_aws response: {response}')\n",
    "\n",
    "if __name__ == '__main__':\n",
    "    main()"
   ]
  }
 ],
 "metadata": {
  "kernelspec": {
   "display_name": ".venv",
   "language": "python",
   "name": "python3"
  },
  "language_info": {
   "codemirror_mode": {
    "name": "ipython",
    "version": 3
   },
   "file_extension": ".py",
   "mimetype": "text/x-python",
   "name": "python",
   "nbconvert_exporter": "python",
   "pygments_lexer": "ipython3",
   "version": "3.13.1"
  }
 },
 "nbformat": 4,
 "nbformat_minor": 5
}
